{
 "cells": [
  {
   "cell_type": "markdown",
   "metadata": {},
   "source": [
    "# setup directories "
   ]
  },
  {
   "cell_type": "code",
   "execution_count": 1,
   "metadata": {},
   "outputs": [],
   "source": [
    "import pandas as pd \n",
    "import numpy as np \n",
    "from sklearn.model_selection import train_test_split\n",
    "import nilearn.image as niimage\n",
    "\n",
    "import gc \n",
    "import os \n",
    "import shutil\n",
    "pj = os.path.join\n",
    "from collections import Counter\n",
    "import pickle "
   ]
  },
  {
   "cell_type": "markdown",
   "metadata": {},
   "source": [
    "# reproducibility"
   ]
  },
  {
   "cell_type": "code",
   "execution_count": 2,
   "metadata": {},
   "outputs": [],
   "source": [
    "np.random.seed(92)"
   ]
  },
  {
   "cell_type": "markdown",
   "metadata": {},
   "source": [
    "# paths "
   ]
  },
  {
   "cell_type": "code",
   "execution_count": 3,
   "metadata": {},
   "outputs": [],
   "source": [
    "project_path = '/Users/ericchase/OneDrive/NORTHWESTERN/498_cap'\n",
    "data_path = pj(project_path, 'data')\n",
    "img_path = pj(data_path, 'images')\n",
    "download_path = pj(img_path, 'download')\n",
    "by_site_path = pj(img_path, 'by_site')\n",
    "clinical_path = pj(data_path, 'clinical')"
   ]
  },
  {
   "cell_type": "markdown",
   "metadata": {},
   "source": [
    "# load clinical"
   ]
  },
  {
   "cell_type": "code",
   "execution_count": 5,
   "metadata": {},
   "outputs": [],
   "source": [
    "cdata = pd.read_csv(pj(clinical_path, 'Phenotypic_V1_0b_preprocessed1.csv'))\n",
    "cdata.columns = cdata.columns.str.lower() \n",
    "# cdata.info(verbose=True)"
   ]
  },
  {
   "cell_type": "code",
   "execution_count": 6,
   "metadata": {},
   "outputs": [
    {
     "output_type": "execute_result",
     "data": {
      "text/plain": [
       "884"
      ]
     },
     "metadata": {},
     "execution_count": 6
    }
   ],
   "source": [
    "sample_count = len(os.listdir(download_path))\n",
    "sample_count"
   ]
  },
  {
   "cell_type": "markdown",
   "metadata": {},
   "source": [
    "# fname ls"
   ]
  },
  {
   "cell_type": "code",
   "execution_count": 7,
   "metadata": {},
   "outputs": [
    {
     "output_type": "execute_result",
     "data": {
      "text/plain": [
       "['OHSU_0050157_reho.nii',\n",
       " 'OHSU_0050156_reho.nii',\n",
       " 'UM_1_0050339_reho.nii',\n",
       " 'UM_1_0050338_reho.nii',\n",
       " 'UCLA_2_0051317_reho.nii']"
      ]
     },
     "metadata": {},
     "execution_count": 7
    }
   ],
   "source": [
    "# create list of all image file names \n",
    "fname_ls = [s for s in os.listdir(download_path) if s.endswith('.nii')]\n",
    "fname_ls[:5]"
   ]
  },
  {
   "cell_type": "markdown",
   "metadata": {},
   "source": [
    "# dx_ls"
   ]
  },
  {
   "cell_type": "code",
   "execution_count": 8,
   "metadata": {},
   "outputs": [],
   "source": [
    "dx_ls = []\n",
    "site_ls = []\n",
    "\n",
    "for i,fname in enumerate(fname_ls):\n",
    "    site_id = ''.join(fname.split('_')[:-2])\n",
    "    sub_id = fname.split('_')[-2]\n",
    "    dx_group = cdata[cdata.sub_id.eq(int(sub_id))].dx_group.values[0] - 1\n",
    "    dx_ls.append(dx_group)\n",
    "    site_ls.append(site_id)"
   ]
  },
  {
   "cell_type": "markdown",
   "metadata": {},
   "source": [
    "# class represenation"
   ]
  },
  {
   "cell_type": "code",
   "execution_count": 9,
   "metadata": {},
   "outputs": [
    {
     "output_type": "execute_result",
     "data": {
      "text/plain": [
       "Counter({1: 476, 0: 408})"
      ]
     },
     "metadata": {},
     "execution_count": 9
    }
   ],
   "source": [
    "Counter(dx_ls)"
   ]
  },
  {
   "cell_type": "markdown",
   "metadata": {},
   "source": [
    "# populate by_site directories"
   ]
  },
  {
   "cell_type": "code",
   "execution_count": 11,
   "metadata": {},
   "outputs": [],
   "source": [
    "!find ../images -name '.DS_Store' -delete "
   ]
  },
  {
   "cell_type": "code",
   "execution_count": 12,
   "metadata": {},
   "outputs": [],
   "source": [
    "def populate_directories(sites, fnames, labels):\n",
    "    for site, fname, label in list(zip(sites, fnames, labels)):\n",
    "        dst_path = pj(by_site_path, site, str(label))\n",
    "        dst_fname = fname.split('.')[0] + '.pkl'\n",
    "        if not os.path.exists(dst_path):\n",
    "            os.makedirs(dst_path) \n",
    "        nii_img_obj = niimage.load_img(pj(download_path, fname))\n",
    "        img_data = nii_img_obj.get_fdata() \n",
    "        img_data = np.expand_dims(img_data, axis=-1)    \n",
    "        # pickle to local dir #\n",
    "        pickle.dump(img_data, open(pj(dst_path, dst_fname), 'wb'))"
   ]
  },
  {
   "cell_type": "code",
   "execution_count": 31,
   "metadata": {},
   "outputs": [],
   "source": [
    "populate_directories(site_ls, fname_ls, dx_ls)"
   ]
  },
  {
   "cell_type": "code",
   "execution_count": 13,
   "metadata": {},
   "outputs": [
    {
     "output_type": "execute_result",
     "data": {
      "text/plain": [
       "{'0': 408, '1': 476}"
      ]
     },
     "metadata": {},
     "execution_count": 13
    }
   ],
   "source": [
    "class_counts = {'0':0, '1':0}\n",
    "\n",
    "for site in os.listdir(by_site_path):\n",
    "    for group in os.listdir(pj(by_site_path, site)):\n",
    "        for file in os.listdir(pj(by_site_path, site, group)):\n",
    "#             print(file)\n",
    "            class_counts[group] += 1\n",
    "            \n",
    "class_counts"
   ]
  }
 ],
 "metadata": {
  "hide_input": false,
  "kernelspec": {
   "display_name": "Python 3",
   "language": "python",
   "name": "python3"
  },
  "language_info": {
   "codemirror_mode": {
    "name": "ipython",
    "version": 3
   },
   "file_extension": ".py",
   "mimetype": "text/x-python",
   "name": "python",
   "nbconvert_exporter": "python",
   "pygments_lexer": "ipython3",
   "version": "3.7.7-final"
  },
  "toc": {
   "base_numbering": 1,
   "nav_menu": {},
   "number_sections": false,
   "sideBar": true,
   "skip_h1_title": false,
   "title_cell": "Contents",
   "title_sidebar": "Contents",
   "toc_cell": false,
   "toc_position": {
    "height": "calc(100% - 180px)",
    "left": "10px",
    "top": "150px",
    "width": "264.796875px"
   },
   "toc_section_display": true,
   "toc_window_display": true
  }
 },
 "nbformat": 4,
 "nbformat_minor": 4
}